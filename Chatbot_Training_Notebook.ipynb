{
  "nbformat": 4,
  "nbformat_minor": 0,
  "metadata": {
    "colab": {
      "name": "Chatbot Training Notebook.ipynb",
      "provenance": []
    },
    "kernelspec": {
      "name": "python3",
      "display_name": "Python 3"
    },
    "language_info": {
      "name": "python"
    },
    "accelerator": "GPU",
    "gpuClass": "standard"
  },
  "cells": [
    {
      "cell_type": "code",
      "execution_count": 22,
      "metadata": {
        "colab": {
          "base_uri": "https://localhost:8080/"
        },
        "id": "2D97AlMM5PaF",
        "outputId": "f9025100-0acb-41f8-a552-7c7939ea6645"
      },
      "outputs": [
        {
          "output_type": "stream",
          "name": "stdout",
          "text": [
            "Fri Jul  1 08:47:08 2022       \n",
            "+-----------------------------------------------------------------------------+\n",
            "| NVIDIA-SMI 460.32.03    Driver Version: 460.32.03    CUDA Version: 11.2     |\n",
            "|-------------------------------+----------------------+----------------------+\n",
            "| GPU  Name        Persistence-M| Bus-Id        Disp.A | Volatile Uncorr. ECC |\n",
            "| Fan  Temp  Perf  Pwr:Usage/Cap|         Memory-Usage | GPU-Util  Compute M. |\n",
            "|                               |                      |               MIG M. |\n",
            "|===============================+======================+======================|\n",
            "|   0  Tesla T4            Off  | 00000000:00:04.0 Off |                    0 |\n",
            "| N/A   59C    P0    30W /  70W |    432MiB / 15109MiB |      0%      Default |\n",
            "|                               |                      |                  N/A |\n",
            "+-------------------------------+----------------------+----------------------+\n",
            "                                                                               \n",
            "+-----------------------------------------------------------------------------+\n",
            "| Processes:                                                                  |\n",
            "|  GPU   GI   CI        PID   Type   Process name                  GPU Memory |\n",
            "|        ID   ID                                                   Usage      |\n",
            "|=============================================================================|\n",
            "+-----------------------------------------------------------------------------+\n"
          ]
        }
      ],
      "source": [
        "!nvidia-smi"
      ]
    },
    {
      "cell_type": "code",
      "source": [
        "from google.colab import drive\n",
        "drive.mount('/content/drive')"
      ],
      "metadata": {
        "colab": {
          "base_uri": "https://localhost:8080/"
        },
        "id": "Lbc1Sdoj5ihH",
        "outputId": "87508c83-3553-44bf-b151-3c40f8b8dcd0"
      },
      "execution_count": 23,
      "outputs": [
        {
          "output_type": "stream",
          "name": "stdout",
          "text": [
            "Drive already mounted at /content/drive; to attempt to forcibly remount, call drive.mount(\"/content/drive\", force_remount=True).\n"
          ]
        }
      ]
    },
    {
      "cell_type": "code",
      "source": [
        "import os\n",
        "os.chdir('/content/drive/MyDrive/My Community session/Projects')\n",
        "os.getcwd()"
      ],
      "metadata": {
        "colab": {
          "base_uri": "https://localhost:8080/",
          "height": 35
        },
        "id": "zcCdMZLY5j5s",
        "outputId": "949e65b5-b671-4900-868a-3592f9705cbc"
      },
      "execution_count": 24,
      "outputs": [
        {
          "output_type": "execute_result",
          "data": {
            "text/plain": [
              "'/content/drive/MyDrive/My Community session/Projects'"
            ],
            "application/vnd.google.colaboratory.intrinsic+json": {
              "type": "string"
            }
          },
          "metadata": {},
          "execution_count": 24
        }
      ]
    },
    {
      "cell_type": "code",
      "source": [
        "data_path = \"/content/drive/MyDrive/My Community session/data/job_intents.json\""
      ],
      "metadata": {
        "id": "qIgd4nsS5uMk"
      },
      "execution_count": 25,
      "outputs": []
    },
    {
      "cell_type": "code",
      "source": [
        "import nltk\n",
        "nltk.download('punkt')\n",
        "nltk.download('wordnet')\n",
        "nltk.download('omw-1.4')\n",
        "from nltk.stem import WordNetLemmatizer\n",
        "import tensorflow as tf\n",
        "import json\n",
        "import pickle\n",
        "import numpy as np\n",
        "from tensorflow.keras.models import Sequential\n",
        "from tensorflow.keras.layers import Dense, Activation, Dropout\n",
        "from tensorflow.keras.optimizers import SGD\n",
        "import random\n",
        "import pandas as pd\n",
        "import matplotlib.pyplot as plt"
      ],
      "metadata": {
        "colab": {
          "base_uri": "https://localhost:8080/"
        },
        "id": "wvtxL5oZ51SB",
        "outputId": "ef816a3a-01b2-4f8e-bbda-c7e47d9f2cec"
      },
      "execution_count": 26,
      "outputs": [
        {
          "output_type": "stream",
          "name": "stderr",
          "text": [
            "[nltk_data] Downloading package punkt to /root/nltk_data...\n",
            "[nltk_data]   Package punkt is already up-to-date!\n",
            "[nltk_data] Downloading package wordnet to /root/nltk_data...\n",
            "[nltk_data]   Package wordnet is already up-to-date!\n",
            "[nltk_data] Downloading package omw-1.4 to /root/nltk_data...\n",
            "[nltk_data]   Package omw-1.4 is already up-to-date!\n"
          ]
        }
      ]
    },
    {
      "cell_type": "markdown",
      "source": [
        "# Text Preprocessing"
      ],
      "metadata": {
        "id": "Y6XjTA0E55k8"
      }
    },
    {
      "cell_type": "code",
      "source": [
        "words=[] #all unique words\n",
        "classes = []  #all classed\n",
        "documents = [] #all input with label\n",
        "ignore_words = ['?', '!']\n",
        "\n",
        "data_file = open(data_path, encoding='utf-8').read()\n",
        "intents = json.loads(data_file)"
      ],
      "metadata": {
        "id": "h44Q5rr053Ib"
      },
      "execution_count": 27,
      "outputs": []
    },
    {
      "cell_type": "code",
      "source": [
        "for intent in intents['intents']:\n",
        "    for pattern in intent['patterns']:\n",
        "\n",
        "        w = nltk.word_tokenize(pattern)\n",
        "        words.extend(w)\n",
        "\n",
        "        documents.append((w, intent['tag']))\n",
        "\n",
        "\n",
        "        if intent['tag'] not in classes:\n",
        "            classes.append(intent['tag'])"
      ],
      "metadata": {
        "id": "KY3Aufeo58ri"
      },
      "execution_count": 28,
      "outputs": []
    },
    {
      "cell_type": "code",
      "source": [
        "lemmatizer = WordNetLemmatizer()"
      ],
      "metadata": {
        "id": "SKPpfUVX6Dtx"
      },
      "execution_count": 29,
      "outputs": []
    },
    {
      "cell_type": "code",
      "source": [
        "lm_words = [lemmatizer.lemmatize(w.lower()) for w in words if w not in ignore_words]"
      ],
      "metadata": {
        "id": "rBfc8cGk6HJa"
      },
      "execution_count": 30,
      "outputs": []
    },
    {
      "cell_type": "code",
      "source": [
        "lm_words = sorted(list(set(lm_words)))\n",
        "lm_words"
      ],
      "metadata": {
        "colab": {
          "base_uri": "https://localhost:8080/"
        },
        "id": "whTOZMvY6Nj0",
        "outputId": "bea43635-01f5-435a-ee8a-a1991881a9e4"
      },
      "execution_count": 31,
      "outputs": [
        {
          "output_type": "execute_result",
          "data": {
            "text/plain": [
              "[\"'s\",\n",
              " ',',\n",
              " 'about',\n",
              " 'africa',\n",
              " 'anyone',\n",
              " 'are',\n",
              " 'awesome',\n",
              " 'bye',\n",
              " 'can',\n",
              " 'day',\n",
              " 'do',\n",
              " 'ekse',\n",
              " 'fact',\n",
              " 'for',\n",
              " 'give',\n",
              " 'good',\n",
              " 'goodbye',\n",
              " 'hello',\n",
              " 'help',\n",
              " 'helpful',\n",
              " 'helping',\n",
              " 'hey',\n",
              " 'hi',\n",
              " 'hola',\n",
              " 'how',\n",
              " 'interesting',\n",
              " 'is',\n",
              " 'know',\n",
              " 'later',\n",
              " 'me',\n",
              " 'more',\n",
              " 'name',\n",
              " 'ok',\n",
              " 'purpose',\n",
              " 'sa',\n",
              " 'see',\n",
              " 'some',\n",
              " 'something',\n",
              " 'south',\n",
              " 'tell',\n",
              " 'thank',\n",
              " 'thanks',\n",
              " 'that',\n",
              " 'there',\n",
              " 'ungubani',\n",
              " 'what',\n",
              " 'whats',\n",
              " 'who',\n",
              " 'you',\n",
              " 'your',\n",
              " 'yourself']"
            ]
          },
          "metadata": {},
          "execution_count": 31
        }
      ]
    },
    {
      "cell_type": "code",
      "source": [
        "classes = sorted(list(set(classes)))\n",
        "\n",
        "print (len(documents), \"documents\")\n",
        "print (len(classes), \"classes\", classes)\n",
        "print (len(lm_words), \"unique lemmatized words\", lm_words)"
      ],
      "metadata": {
        "colab": {
          "base_uri": "https://localhost:8080/"
        },
        "id": "qjgLT0EK6PBx",
        "outputId": "8b73c723-d712-44f2-8eb0-85e9d13f7c83"
      },
      "execution_count": 32,
      "outputs": [
        {
          "output_type": "stream",
          "name": "stdout",
          "text": [
            "53 documents\n",
            "7 classes ['goodbye', 'greeting', 'name', 'options', 'south_africa_facts', 'south_africa_info', 'thanks']\n",
            "51 unique lemmatized words [\"'s\", ',', 'about', 'africa', 'anyone', 'are', 'awesome', 'bye', 'can', 'day', 'do', 'ekse', 'fact', 'for', 'give', 'good', 'goodbye', 'hello', 'help', 'helpful', 'helping', 'hey', 'hi', 'hola', 'how', 'interesting', 'is', 'know', 'later', 'me', 'more', 'name', 'ok', 'purpose', 'sa', 'see', 'some', 'something', 'south', 'tell', 'thank', 'thanks', 'that', 'there', 'ungubani', 'what', 'whats', 'who', 'you', 'your', 'yourself']\n"
          ]
        }
      ]
    },
    {
      "cell_type": "code",
      "source": [
        "pickle.dump(lm_words,open('words.pkl','wb'))\n",
        "pickle.dump(classes,open('classes.pkl','wb'))"
      ],
      "metadata": {
        "id": "SNxhYOct6TfZ"
      },
      "execution_count": 33,
      "outputs": []
    },
    {
      "cell_type": "markdown",
      "source": [
        "# Feature Engineering / Text representation"
      ],
      "metadata": {
        "id": "KcEoqBkY6cyE"
      }
    },
    {
      "cell_type": "code",
      "source": [
        "# initializing training data\n",
        "training = []\n",
        "output_empty = [0] * len(classes)"
      ],
      "metadata": {
        "id": "jx3_8Amu6Z3A"
      },
      "execution_count": 34,
      "outputs": []
    },
    {
      "cell_type": "code",
      "source": [
        "for doc in documents:\n",
        "\n",
        "    bag = []\n",
        "\n",
        "    pattern_words = doc[0]\n",
        "    pattern_words = [lemmatizer.lemmatize(word.lower()) for word in pattern_words]\n",
        "\n",
        "    for w in lm_words:\n",
        "        bag.append(1) if w in pattern_words else bag.append(0)\n",
        "\n",
        "\n",
        "    output_row = list(output_empty)\n",
        "    output_row[classes.index(doc[1])] = 1\n",
        "    training.append([bag, output_row])"
      ],
      "metadata": {
        "id": "JA_SBoXC6h84"
      },
      "execution_count": 35,
      "outputs": []
    },
    {
      "cell_type": "code",
      "source": [
        "random.shuffle(training)\n",
        "training = np.array(training)"
      ],
      "metadata": {
        "colab": {
          "base_uri": "https://localhost:8080/"
        },
        "id": "6_AVUlTD6lu_",
        "outputId": "becc5e89-e030-4a32-9ec6-6bf982f080b1"
      },
      "execution_count": 36,
      "outputs": [
        {
          "output_type": "stream",
          "name": "stderr",
          "text": [
            "/usr/local/lib/python3.7/dist-packages/ipykernel_launcher.py:2: VisibleDeprecationWarning: Creating an ndarray from ragged nested sequences (which is a list-or-tuple of lists-or-tuples-or ndarrays with different lengths or shapes) is deprecated. If you meant to do this, you must specify 'dtype=object' when creating the ndarray.\n",
            "  \n"
          ]
        }
      ]
    },
    {
      "cell_type": "code",
      "source": [
        "training.shape"
      ],
      "metadata": {
        "colab": {
          "base_uri": "https://localhost:8080/"
        },
        "id": "82hCGMVT6oO7",
        "outputId": "4e894608-8338-44fe-89cd-8f768ad93b97"
      },
      "execution_count": 37,
      "outputs": [
        {
          "output_type": "execute_result",
          "data": {
            "text/plain": [
              "(53, 2)"
            ]
          },
          "metadata": {},
          "execution_count": 37
        }
      ]
    },
    {
      "cell_type": "code",
      "source": [
        "# create train and test lists. X - patterns, Y - intents\n",
        "train_x = list(training[:,0])\n",
        "train_y = list(training[:,1])\n",
        "\n",
        "VALIDATION_SET = (train_x, train_y)"
      ],
      "metadata": {
        "id": "Rl9cQz_66qLx"
      },
      "execution_count": 38,
      "outputs": []
    },
    {
      "cell_type": "markdown",
      "source": [
        "# Modeling & Evaluation"
      ],
      "metadata": {
        "id": "NgquuWGo7D53"
      }
    },
    {
      "cell_type": "code",
      "source": [
        "# Create model - 3 layers. First layer 128 neurons, second layer 64 neurons and 3rd output layer contains number of neurons\n",
        "# equal to number of intents to predict output intent with softmax\n",
        "model = Sequential()\n",
        "model.add(Dense(128, input_shape=(len(train_x[0]),), activation='relu'))\n",
        "model.add(Dropout(0.5))\n",
        "model.add(Dense(64, activation='relu'))\n",
        "model.add(Dropout(0.5))\n",
        "model.add(Dense(len(train_y[0]), activation='softmax'))"
      ],
      "metadata": {
        "id": "IOvIfvTA7B0R"
      },
      "execution_count": 39,
      "outputs": []
    },
    {
      "cell_type": "code",
      "source": [
        "# Compile model. Stochastic gradient descent with Nesterov accelerated gradient gives good results for this model\n",
        "sgd = SGD(learning_rate=0.01, decay=1e-6, momentum=0.9, nesterov=True)\n",
        "model.compile(loss='categorical_crossentropy', optimizer=sgd, metrics=['accuracy'])"
      ],
      "metadata": {
        "id": "7VPjOCf77Gjh"
      },
      "execution_count": 40,
      "outputs": []
    },
    {
      "cell_type": "code",
      "source": [
        "#fitting and saving the model\n",
        "history = model.fit(np.array(train_x), np.array(train_y), epochs=250, validation_data = VALIDATION_SET, batch_size=5, verbose=1)"
      ],
      "metadata": {
        "colab": {
          "base_uri": "https://localhost:8080/"
        },
        "id": "eJLW4NW07IPV",
        "outputId": "81b8abc2-91b6-4056-ead0-2a8f18a5276b"
      },
      "execution_count": 41,
      "outputs": [
        {
          "output_type": "stream",
          "name": "stdout",
          "text": [
            "Epoch 1/250\n",
            "11/11 [==============================] - 1s 24ms/step - loss: 1.9881 - accuracy: 0.0755 - val_loss: 1.8693 - val_accuracy: 0.2453\n",
            "Epoch 2/250\n",
            "11/11 [==============================] - 0s 12ms/step - loss: 1.8754 - accuracy: 0.2075 - val_loss: 1.7437 - val_accuracy: 0.2830\n",
            "Epoch 3/250\n",
            "11/11 [==============================] - 0s 7ms/step - loss: 1.7851 - accuracy: 0.3208 - val_loss: 1.6135 - val_accuracy: 0.3019\n",
            "Epoch 4/250\n",
            "11/11 [==============================] - 0s 7ms/step - loss: 1.6613 - accuracy: 0.3962 - val_loss: 1.4816 - val_accuracy: 0.4340\n",
            "Epoch 5/250\n",
            "11/11 [==============================] - 0s 7ms/step - loss: 1.5780 - accuracy: 0.4151 - val_loss: 1.3581 - val_accuracy: 0.6038\n",
            "Epoch 6/250\n",
            "11/11 [==============================] - 0s 7ms/step - loss: 1.4498 - accuracy: 0.5094 - val_loss: 1.2308 - val_accuracy: 0.6226\n",
            "Epoch 7/250\n",
            "11/11 [==============================] - 0s 7ms/step - loss: 1.3111 - accuracy: 0.5849 - val_loss: 1.1140 - val_accuracy: 0.7358\n",
            "Epoch 8/250\n",
            "11/11 [==============================] - 0s 8ms/step - loss: 1.2165 - accuracy: 0.6415 - val_loss: 0.9891 - val_accuracy: 0.7925\n",
            "Epoch 9/250\n",
            "11/11 [==============================] - 0s 12ms/step - loss: 1.0788 - accuracy: 0.6415 - val_loss: 0.8842 - val_accuracy: 0.7925\n",
            "Epoch 10/250\n",
            "11/11 [==============================] - 0s 7ms/step - loss: 1.0160 - accuracy: 0.6981 - val_loss: 0.7953 - val_accuracy: 0.8302\n",
            "Epoch 11/250\n",
            "11/11 [==============================] - 0s 7ms/step - loss: 0.9048 - accuracy: 0.6981 - val_loss: 0.7125 - val_accuracy: 0.8302\n",
            "Epoch 12/250\n",
            "11/11 [==============================] - 0s 7ms/step - loss: 0.8726 - accuracy: 0.7736 - val_loss: 0.6344 - val_accuracy: 0.8679\n",
            "Epoch 13/250\n",
            "11/11 [==============================] - 0s 8ms/step - loss: 0.8212 - accuracy: 0.7547 - val_loss: 0.5696 - val_accuracy: 0.9245\n",
            "Epoch 14/250\n",
            "11/11 [==============================] - 0s 7ms/step - loss: 0.8077 - accuracy: 0.6792 - val_loss: 0.5075 - val_accuracy: 0.9434\n",
            "Epoch 15/250\n",
            "11/11 [==============================] - 0s 7ms/step - loss: 0.6534 - accuracy: 0.8302 - val_loss: 0.4427 - val_accuracy: 0.9434\n",
            "Epoch 16/250\n",
            "11/11 [==============================] - 0s 8ms/step - loss: 0.7127 - accuracy: 0.7925 - val_loss: 0.3921 - val_accuracy: 0.9434\n",
            "Epoch 17/250\n",
            "11/11 [==============================] - 0s 7ms/step - loss: 0.6037 - accuracy: 0.8113 - val_loss: 0.3432 - val_accuracy: 0.9811\n",
            "Epoch 18/250\n",
            "11/11 [==============================] - 0s 7ms/step - loss: 0.5775 - accuracy: 0.7736 - val_loss: 0.3011 - val_accuracy: 0.9811\n",
            "Epoch 19/250\n",
            "11/11 [==============================] - 0s 7ms/step - loss: 0.6327 - accuracy: 0.8113 - val_loss: 0.2638 - val_accuracy: 0.9811\n",
            "Epoch 20/250\n",
            "11/11 [==============================] - 0s 8ms/step - loss: 0.5531 - accuracy: 0.8491 - val_loss: 0.2358 - val_accuracy: 0.9811\n",
            "Epoch 21/250\n",
            "11/11 [==============================] - 0s 7ms/step - loss: 0.3336 - accuracy: 0.9434 - val_loss: 0.2044 - val_accuracy: 1.0000\n",
            "Epoch 22/250\n",
            "11/11 [==============================] - 0s 7ms/step - loss: 0.3888 - accuracy: 0.8868 - val_loss: 0.1749 - val_accuracy: 1.0000\n",
            "Epoch 23/250\n",
            "11/11 [==============================] - 0s 7ms/step - loss: 0.3164 - accuracy: 0.9057 - val_loss: 0.1599 - val_accuracy: 1.0000\n",
            "Epoch 24/250\n",
            "11/11 [==============================] - 0s 7ms/step - loss: 0.4317 - accuracy: 0.8868 - val_loss: 0.1327 - val_accuracy: 1.0000\n",
            "Epoch 25/250\n",
            "11/11 [==============================] - 0s 7ms/step - loss: 0.3450 - accuracy: 0.9057 - val_loss: 0.1249 - val_accuracy: 1.0000\n",
            "Epoch 26/250\n",
            "11/11 [==============================] - 0s 7ms/step - loss: 0.3052 - accuracy: 0.8868 - val_loss: 0.1016 - val_accuracy: 1.0000\n",
            "Epoch 27/250\n",
            "11/11 [==============================] - 0s 9ms/step - loss: 0.4180 - accuracy: 0.8679 - val_loss: 0.0859 - val_accuracy: 1.0000\n",
            "Epoch 28/250\n",
            "11/11 [==============================] - 0s 7ms/step - loss: 0.3091 - accuracy: 0.8868 - val_loss: 0.0802 - val_accuracy: 1.0000\n",
            "Epoch 29/250\n",
            "11/11 [==============================] - 0s 7ms/step - loss: 0.2617 - accuracy: 0.9245 - val_loss: 0.0741 - val_accuracy: 1.0000\n",
            "Epoch 30/250\n",
            "11/11 [==============================] - 0s 8ms/step - loss: 0.2759 - accuracy: 0.9434 - val_loss: 0.0701 - val_accuracy: 1.0000\n",
            "Epoch 31/250\n",
            "11/11 [==============================] - 0s 7ms/step - loss: 0.2614 - accuracy: 0.9057 - val_loss: 0.0648 - val_accuracy: 1.0000\n",
            "Epoch 32/250\n",
            "11/11 [==============================] - 0s 8ms/step - loss: 0.1739 - accuracy: 0.9811 - val_loss: 0.0576 - val_accuracy: 1.0000\n",
            "Epoch 33/250\n",
            "11/11 [==============================] - 0s 7ms/step - loss: 0.3535 - accuracy: 0.8868 - val_loss: 0.0454 - val_accuracy: 1.0000\n",
            "Epoch 34/250\n",
            "11/11 [==============================] - 0s 7ms/step - loss: 0.2075 - accuracy: 0.9434 - val_loss: 0.0421 - val_accuracy: 1.0000\n",
            "Epoch 35/250\n",
            "11/11 [==============================] - 0s 11ms/step - loss: 0.1777 - accuracy: 0.9434 - val_loss: 0.0361 - val_accuracy: 1.0000\n",
            "Epoch 36/250\n",
            "11/11 [==============================] - 0s 11ms/step - loss: 0.1707 - accuracy: 0.9811 - val_loss: 0.0283 - val_accuracy: 1.0000\n",
            "Epoch 37/250\n",
            "11/11 [==============================] - 0s 7ms/step - loss: 0.2380 - accuracy: 0.9245 - val_loss: 0.0295 - val_accuracy: 1.0000\n",
            "Epoch 38/250\n",
            "11/11 [==============================] - 0s 8ms/step - loss: 0.1241 - accuracy: 0.9811 - val_loss: 0.0279 - val_accuracy: 1.0000\n",
            "Epoch 39/250\n",
            "11/11 [==============================] - 0s 7ms/step - loss: 0.1126 - accuracy: 1.0000 - val_loss: 0.0227 - val_accuracy: 1.0000\n",
            "Epoch 40/250\n",
            "11/11 [==============================] - 0s 7ms/step - loss: 0.1180 - accuracy: 0.9623 - val_loss: 0.0222 - val_accuracy: 1.0000\n",
            "Epoch 41/250\n",
            "11/11 [==============================] - 0s 7ms/step - loss: 0.0989 - accuracy: 1.0000 - val_loss: 0.0201 - val_accuracy: 1.0000\n",
            "Epoch 42/250\n",
            "11/11 [==============================] - 0s 7ms/step - loss: 0.1010 - accuracy: 0.9811 - val_loss: 0.0170 - val_accuracy: 1.0000\n",
            "Epoch 43/250\n",
            "11/11 [==============================] - 0s 8ms/step - loss: 0.1989 - accuracy: 0.9434 - val_loss: 0.0144 - val_accuracy: 1.0000\n",
            "Epoch 44/250\n",
            "11/11 [==============================] - 0s 8ms/step - loss: 0.0958 - accuracy: 1.0000 - val_loss: 0.0126 - val_accuracy: 1.0000\n",
            "Epoch 45/250\n",
            "11/11 [==============================] - 0s 7ms/step - loss: 0.0585 - accuracy: 1.0000 - val_loss: 0.0114 - val_accuracy: 1.0000\n",
            "Epoch 46/250\n",
            "11/11 [==============================] - 0s 7ms/step - loss: 0.1442 - accuracy: 0.9623 - val_loss: 0.0107 - val_accuracy: 1.0000\n",
            "Epoch 47/250\n",
            "11/11 [==============================] - 0s 7ms/step - loss: 0.1163 - accuracy: 0.9623 - val_loss: 0.0096 - val_accuracy: 1.0000\n",
            "Epoch 48/250\n",
            "11/11 [==============================] - 0s 9ms/step - loss: 0.2788 - accuracy: 0.9245 - val_loss: 0.0107 - val_accuracy: 1.0000\n",
            "Epoch 49/250\n",
            "11/11 [==============================] - 0s 8ms/step - loss: 0.1380 - accuracy: 0.9811 - val_loss: 0.0110 - val_accuracy: 1.0000\n",
            "Epoch 50/250\n",
            "11/11 [==============================] - 0s 8ms/step - loss: 0.1094 - accuracy: 1.0000 - val_loss: 0.0098 - val_accuracy: 1.0000\n",
            "Epoch 51/250\n",
            "11/11 [==============================] - 0s 7ms/step - loss: 0.0550 - accuracy: 1.0000 - val_loss: 0.0089 - val_accuracy: 1.0000\n",
            "Epoch 52/250\n",
            "11/11 [==============================] - 0s 7ms/step - loss: 0.1231 - accuracy: 0.9811 - val_loss: 0.0086 - val_accuracy: 1.0000\n",
            "Epoch 53/250\n",
            "11/11 [==============================] - 0s 8ms/step - loss: 0.0866 - accuracy: 0.9811 - val_loss: 0.0077 - val_accuracy: 1.0000\n",
            "Epoch 54/250\n",
            "11/11 [==============================] - 0s 8ms/step - loss: 0.0568 - accuracy: 0.9811 - val_loss: 0.0077 - val_accuracy: 1.0000\n",
            "Epoch 55/250\n",
            "11/11 [==============================] - 0s 7ms/step - loss: 0.0991 - accuracy: 0.9811 - val_loss: 0.0075 - val_accuracy: 1.0000\n",
            "Epoch 56/250\n",
            "11/11 [==============================] - 0s 8ms/step - loss: 0.0796 - accuracy: 1.0000 - val_loss: 0.0068 - val_accuracy: 1.0000\n",
            "Epoch 57/250\n",
            "11/11 [==============================] - 0s 8ms/step - loss: 0.0735 - accuracy: 1.0000 - val_loss: 0.0060 - val_accuracy: 1.0000\n",
            "Epoch 58/250\n",
            "11/11 [==============================] - 0s 7ms/step - loss: 0.0394 - accuracy: 1.0000 - val_loss: 0.0056 - val_accuracy: 1.0000\n",
            "Epoch 59/250\n",
            "11/11 [==============================] - 0s 7ms/step - loss: 0.0510 - accuracy: 1.0000 - val_loss: 0.0049 - val_accuracy: 1.0000\n",
            "Epoch 60/250\n",
            "11/11 [==============================] - 0s 7ms/step - loss: 0.0675 - accuracy: 1.0000 - val_loss: 0.0042 - val_accuracy: 1.0000\n",
            "Epoch 61/250\n",
            "11/11 [==============================] - 0s 7ms/step - loss: 0.0921 - accuracy: 0.9811 - val_loss: 0.0038 - val_accuracy: 1.0000\n",
            "Epoch 62/250\n",
            "11/11 [==============================] - 0s 7ms/step - loss: 0.0834 - accuracy: 0.9623 - val_loss: 0.0034 - val_accuracy: 1.0000\n",
            "Epoch 63/250\n",
            "11/11 [==============================] - 0s 7ms/step - loss: 0.0647 - accuracy: 1.0000 - val_loss: 0.0032 - val_accuracy: 1.0000\n",
            "Epoch 64/250\n",
            "11/11 [==============================] - 0s 8ms/step - loss: 0.0705 - accuracy: 1.0000 - val_loss: 0.0031 - val_accuracy: 1.0000\n",
            "Epoch 65/250\n",
            "11/11 [==============================] - 0s 8ms/step - loss: 0.0474 - accuracy: 1.0000 - val_loss: 0.0026 - val_accuracy: 1.0000\n",
            "Epoch 66/250\n",
            "11/11 [==============================] - 0s 8ms/step - loss: 0.0545 - accuracy: 1.0000 - val_loss: 0.0024 - val_accuracy: 1.0000\n",
            "Epoch 67/250\n",
            "11/11 [==============================] - 0s 7ms/step - loss: 0.1177 - accuracy: 0.9623 - val_loss: 0.0025 - val_accuracy: 1.0000\n",
            "Epoch 68/250\n",
            "11/11 [==============================] - 0s 7ms/step - loss: 0.0382 - accuracy: 1.0000 - val_loss: 0.0025 - val_accuracy: 1.0000\n",
            "Epoch 69/250\n",
            "11/11 [==============================] - 0s 7ms/step - loss: 0.1477 - accuracy: 0.9623 - val_loss: 0.0028 - val_accuracy: 1.0000\n",
            "Epoch 70/250\n",
            "11/11 [==============================] - 0s 7ms/step - loss: 0.0853 - accuracy: 0.9811 - val_loss: 0.0028 - val_accuracy: 1.0000\n",
            "Epoch 71/250\n",
            "11/11 [==============================] - 0s 8ms/step - loss: 0.0884 - accuracy: 0.9811 - val_loss: 0.0026 - val_accuracy: 1.0000\n",
            "Epoch 72/250\n",
            "11/11 [==============================] - 0s 7ms/step - loss: 0.0528 - accuracy: 1.0000 - val_loss: 0.0023 - val_accuracy: 1.0000\n",
            "Epoch 73/250\n",
            "11/11 [==============================] - 0s 7ms/step - loss: 0.0594 - accuracy: 0.9811 - val_loss: 0.0022 - val_accuracy: 1.0000\n",
            "Epoch 74/250\n",
            "11/11 [==============================] - 0s 7ms/step - loss: 0.1213 - accuracy: 0.9623 - val_loss: 0.0025 - val_accuracy: 1.0000\n",
            "Epoch 75/250\n",
            "11/11 [==============================] - 0s 7ms/step - loss: 0.0545 - accuracy: 0.9811 - val_loss: 0.0028 - val_accuracy: 1.0000\n",
            "Epoch 76/250\n",
            "11/11 [==============================] - 0s 7ms/step - loss: 0.0492 - accuracy: 1.0000 - val_loss: 0.0027 - val_accuracy: 1.0000\n",
            "Epoch 77/250\n",
            "11/11 [==============================] - 0s 8ms/step - loss: 0.0456 - accuracy: 1.0000 - val_loss: 0.0021 - val_accuracy: 1.0000\n",
            "Epoch 78/250\n",
            "11/11 [==============================] - 0s 8ms/step - loss: 0.1501 - accuracy: 0.9623 - val_loss: 0.0017 - val_accuracy: 1.0000\n",
            "Epoch 79/250\n",
            "11/11 [==============================] - 0s 7ms/step - loss: 0.0339 - accuracy: 1.0000 - val_loss: 0.0017 - val_accuracy: 1.0000\n",
            "Epoch 80/250\n",
            "11/11 [==============================] - 0s 7ms/step - loss: 0.0874 - accuracy: 0.9623 - val_loss: 0.0016 - val_accuracy: 1.0000\n",
            "Epoch 81/250\n",
            "11/11 [==============================] - 0s 8ms/step - loss: 0.0286 - accuracy: 1.0000 - val_loss: 0.0017 - val_accuracy: 1.0000\n",
            "Epoch 82/250\n",
            "11/11 [==============================] - 0s 7ms/step - loss: 0.0354 - accuracy: 1.0000 - val_loss: 0.0016 - val_accuracy: 1.0000\n",
            "Epoch 83/250\n",
            "11/11 [==============================] - 0s 8ms/step - loss: 0.0445 - accuracy: 1.0000 - val_loss: 0.0017 - val_accuracy: 1.0000\n",
            "Epoch 84/250\n",
            "11/11 [==============================] - 0s 7ms/step - loss: 0.0453 - accuracy: 1.0000 - val_loss: 0.0017 - val_accuracy: 1.0000\n",
            "Epoch 85/250\n",
            "11/11 [==============================] - 0s 7ms/step - loss: 0.0397 - accuracy: 1.0000 - val_loss: 0.0014 - val_accuracy: 1.0000\n",
            "Epoch 86/250\n",
            "11/11 [==============================] - 0s 7ms/step - loss: 0.0435 - accuracy: 0.9811 - val_loss: 0.0012 - val_accuracy: 1.0000\n",
            "Epoch 87/250\n",
            "11/11 [==============================] - 0s 7ms/step - loss: 0.0428 - accuracy: 1.0000 - val_loss: 0.0011 - val_accuracy: 1.0000\n",
            "Epoch 88/250\n",
            "11/11 [==============================] - 0s 8ms/step - loss: 0.0163 - accuracy: 1.0000 - val_loss: 0.0011 - val_accuracy: 1.0000\n",
            "Epoch 89/250\n",
            "11/11 [==============================] - 0s 7ms/step - loss: 0.0535 - accuracy: 0.9811 - val_loss: 0.0011 - val_accuracy: 1.0000\n",
            "Epoch 90/250\n",
            "11/11 [==============================] - 0s 8ms/step - loss: 0.0408 - accuracy: 1.0000 - val_loss: 9.8762e-04 - val_accuracy: 1.0000\n",
            "Epoch 91/250\n",
            "11/11 [==============================] - 0s 8ms/step - loss: 0.0328 - accuracy: 1.0000 - val_loss: 8.8528e-04 - val_accuracy: 1.0000\n",
            "Epoch 92/250\n",
            "11/11 [==============================] - 0s 7ms/step - loss: 0.0781 - accuracy: 0.9811 - val_loss: 8.5271e-04 - val_accuracy: 1.0000\n",
            "Epoch 93/250\n",
            "11/11 [==============================] - 0s 7ms/step - loss: 0.0460 - accuracy: 0.9811 - val_loss: 8.4925e-04 - val_accuracy: 1.0000\n",
            "Epoch 94/250\n",
            "11/11 [==============================] - 0s 8ms/step - loss: 0.0430 - accuracy: 1.0000 - val_loss: 8.5152e-04 - val_accuracy: 1.0000\n",
            "Epoch 95/250\n",
            "11/11 [==============================] - 0s 7ms/step - loss: 0.0433 - accuracy: 0.9811 - val_loss: 8.5815e-04 - val_accuracy: 1.0000\n",
            "Epoch 96/250\n",
            "11/11 [==============================] - 0s 7ms/step - loss: 0.0514 - accuracy: 0.9811 - val_loss: 8.7387e-04 - val_accuracy: 1.0000\n",
            "Epoch 97/250\n",
            "11/11 [==============================] - 0s 7ms/step - loss: 0.0319 - accuracy: 1.0000 - val_loss: 8.5399e-04 - val_accuracy: 1.0000\n",
            "Epoch 98/250\n",
            "11/11 [==============================] - 0s 7ms/step - loss: 0.0376 - accuracy: 1.0000 - val_loss: 8.1657e-04 - val_accuracy: 1.0000\n",
            "Epoch 99/250\n",
            "11/11 [==============================] - 0s 7ms/step - loss: 0.0371 - accuracy: 1.0000 - val_loss: 7.9590e-04 - val_accuracy: 1.0000\n",
            "Epoch 100/250\n",
            "11/11 [==============================] - 0s 7ms/step - loss: 0.0474 - accuracy: 1.0000 - val_loss: 7.4240e-04 - val_accuracy: 1.0000\n",
            "Epoch 101/250\n",
            "11/11 [==============================] - 0s 11ms/step - loss: 0.0680 - accuracy: 0.9811 - val_loss: 7.7212e-04 - val_accuracy: 1.0000\n",
            "Epoch 102/250\n",
            "11/11 [==============================] - 0s 7ms/step - loss: 0.0358 - accuracy: 1.0000 - val_loss: 7.2759e-04 - val_accuracy: 1.0000\n",
            "Epoch 103/250\n",
            "11/11 [==============================] - 0s 7ms/step - loss: 0.0244 - accuracy: 0.9811 - val_loss: 6.7581e-04 - val_accuracy: 1.0000\n",
            "Epoch 104/250\n",
            "11/11 [==============================] - 0s 7ms/step - loss: 0.0300 - accuracy: 1.0000 - val_loss: 6.4205e-04 - val_accuracy: 1.0000\n",
            "Epoch 105/250\n",
            "11/11 [==============================] - 0s 8ms/step - loss: 0.0201 - accuracy: 1.0000 - val_loss: 6.0808e-04 - val_accuracy: 1.0000\n",
            "Epoch 106/250\n",
            "11/11 [==============================] - 0s 7ms/step - loss: 0.0394 - accuracy: 0.9811 - val_loss: 5.7044e-04 - val_accuracy: 1.0000\n",
            "Epoch 107/250\n",
            "11/11 [==============================] - 0s 7ms/step - loss: 0.0257 - accuracy: 1.0000 - val_loss: 5.3431e-04 - val_accuracy: 1.0000\n",
            "Epoch 108/250\n",
            "11/11 [==============================] - 0s 7ms/step - loss: 0.0506 - accuracy: 0.9811 - val_loss: 5.2917e-04 - val_accuracy: 1.0000\n",
            "Epoch 109/250\n",
            "11/11 [==============================] - 0s 8ms/step - loss: 0.0173 - accuracy: 1.0000 - val_loss: 5.2376e-04 - val_accuracy: 1.0000\n",
            "Epoch 110/250\n",
            "11/11 [==============================] - 0s 7ms/step - loss: 0.0379 - accuracy: 0.9811 - val_loss: 4.6284e-04 - val_accuracy: 1.0000\n",
            "Epoch 111/250\n",
            "11/11 [==============================] - 0s 7ms/step - loss: 0.0370 - accuracy: 0.9811 - val_loss: 4.6242e-04 - val_accuracy: 1.0000\n",
            "Epoch 112/250\n",
            "11/11 [==============================] - 0s 7ms/step - loss: 0.0267 - accuracy: 1.0000 - val_loss: 4.9350e-04 - val_accuracy: 1.0000\n",
            "Epoch 113/250\n",
            "11/11 [==============================] - 0s 8ms/step - loss: 0.0110 - accuracy: 1.0000 - val_loss: 4.9953e-04 - val_accuracy: 1.0000\n",
            "Epoch 114/250\n",
            "11/11 [==============================] - 0s 7ms/step - loss: 0.0335 - accuracy: 1.0000 - val_loss: 5.4771e-04 - val_accuracy: 1.0000\n",
            "Epoch 115/250\n",
            "11/11 [==============================] - 0s 7ms/step - loss: 0.0740 - accuracy: 0.9811 - val_loss: 4.5320e-04 - val_accuracy: 1.0000\n",
            "Epoch 116/250\n",
            "11/11 [==============================] - 0s 7ms/step - loss: 0.0424 - accuracy: 1.0000 - val_loss: 4.9791e-04 - val_accuracy: 1.0000\n",
            "Epoch 117/250\n",
            "11/11 [==============================] - 0s 7ms/step - loss: 0.0482 - accuracy: 0.9811 - val_loss: 4.6263e-04 - val_accuracy: 1.0000\n",
            "Epoch 118/250\n",
            "11/11 [==============================] - 0s 8ms/step - loss: 0.0465 - accuracy: 1.0000 - val_loss: 4.6366e-04 - val_accuracy: 1.0000\n",
            "Epoch 119/250\n",
            "11/11 [==============================] - 0s 8ms/step - loss: 0.0296 - accuracy: 1.0000 - val_loss: 4.2173e-04 - val_accuracy: 1.0000\n",
            "Epoch 120/250\n",
            "11/11 [==============================] - 0s 8ms/step - loss: 0.0184 - accuracy: 1.0000 - val_loss: 3.9422e-04 - val_accuracy: 1.0000\n",
            "Epoch 121/250\n",
            "11/11 [==============================] - 0s 7ms/step - loss: 0.0211 - accuracy: 1.0000 - val_loss: 3.8043e-04 - val_accuracy: 1.0000\n",
            "Epoch 122/250\n",
            "11/11 [==============================] - 0s 8ms/step - loss: 0.0267 - accuracy: 1.0000 - val_loss: 3.5633e-04 - val_accuracy: 1.0000\n",
            "Epoch 123/250\n",
            "11/11 [==============================] - 0s 7ms/step - loss: 0.0944 - accuracy: 0.9623 - val_loss: 4.6529e-04 - val_accuracy: 1.0000\n",
            "Epoch 124/250\n",
            "11/11 [==============================] - 0s 8ms/step - loss: 0.0172 - accuracy: 1.0000 - val_loss: 5.0469e-04 - val_accuracy: 1.0000\n",
            "Epoch 125/250\n",
            "11/11 [==============================] - 0s 8ms/step - loss: 0.0229 - accuracy: 1.0000 - val_loss: 4.7725e-04 - val_accuracy: 1.0000\n",
            "Epoch 126/250\n",
            "11/11 [==============================] - 0s 7ms/step - loss: 0.0582 - accuracy: 0.9811 - val_loss: 3.9668e-04 - val_accuracy: 1.0000\n",
            "Epoch 127/250\n",
            "11/11 [==============================] - 0s 7ms/step - loss: 0.0065 - accuracy: 1.0000 - val_loss: 3.6363e-04 - val_accuracy: 1.0000\n",
            "Epoch 128/250\n",
            "11/11 [==============================] - 0s 7ms/step - loss: 0.0322 - accuracy: 1.0000 - val_loss: 3.7197e-04 - val_accuracy: 1.0000\n",
            "Epoch 129/250\n",
            "11/11 [==============================] - 0s 8ms/step - loss: 0.0776 - accuracy: 0.9811 - val_loss: 4.0135e-04 - val_accuracy: 1.0000\n",
            "Epoch 130/250\n",
            "11/11 [==============================] - 0s 7ms/step - loss: 0.0082 - accuracy: 1.0000 - val_loss: 4.6007e-04 - val_accuracy: 1.0000\n",
            "Epoch 131/250\n",
            "11/11 [==============================] - 0s 8ms/step - loss: 0.0105 - accuracy: 1.0000 - val_loss: 4.5619e-04 - val_accuracy: 1.0000\n",
            "Epoch 132/250\n",
            "11/11 [==============================] - 0s 7ms/step - loss: 0.0269 - accuracy: 1.0000 - val_loss: 4.3556e-04 - val_accuracy: 1.0000\n",
            "Epoch 133/250\n",
            "11/11 [==============================] - 0s 7ms/step - loss: 0.0198 - accuracy: 1.0000 - val_loss: 4.1844e-04 - val_accuracy: 1.0000\n",
            "Epoch 134/250\n",
            "11/11 [==============================] - 0s 7ms/step - loss: 0.0262 - accuracy: 1.0000 - val_loss: 4.2041e-04 - val_accuracy: 1.0000\n",
            "Epoch 135/250\n",
            "11/11 [==============================] - 0s 7ms/step - loss: 0.0415 - accuracy: 1.0000 - val_loss: 3.4176e-04 - val_accuracy: 1.0000\n",
            "Epoch 136/250\n",
            "11/11 [==============================] - 0s 8ms/step - loss: 0.0411 - accuracy: 0.9811 - val_loss: 3.0035e-04 - val_accuracy: 1.0000\n",
            "Epoch 137/250\n",
            "11/11 [==============================] - 0s 7ms/step - loss: 0.0228 - accuracy: 1.0000 - val_loss: 2.8740e-04 - val_accuracy: 1.0000\n",
            "Epoch 138/250\n",
            "11/11 [==============================] - 0s 7ms/step - loss: 0.0532 - accuracy: 0.9811 - val_loss: 2.6175e-04 - val_accuracy: 1.0000\n",
            "Epoch 139/250\n",
            "11/11 [==============================] - 0s 7ms/step - loss: 0.0139 - accuracy: 1.0000 - val_loss: 2.3987e-04 - val_accuracy: 1.0000\n",
            "Epoch 140/250\n",
            "11/11 [==============================] - 0s 7ms/step - loss: 0.0735 - accuracy: 0.9811 - val_loss: 2.3310e-04 - val_accuracy: 1.0000\n",
            "Epoch 141/250\n",
            "11/11 [==============================] - 0s 8ms/step - loss: 0.0110 - accuracy: 1.0000 - val_loss: 2.2989e-04 - val_accuracy: 1.0000\n",
            "Epoch 142/250\n",
            "11/11 [==============================] - 0s 7ms/step - loss: 0.0329 - accuracy: 0.9811 - val_loss: 2.2939e-04 - val_accuracy: 1.0000\n",
            "Epoch 143/250\n",
            "11/11 [==============================] - 0s 8ms/step - loss: 0.0499 - accuracy: 0.9811 - val_loss: 2.6415e-04 - val_accuracy: 1.0000\n",
            "Epoch 144/250\n",
            "11/11 [==============================] - 0s 7ms/step - loss: 0.0084 - accuracy: 1.0000 - val_loss: 2.9326e-04 - val_accuracy: 1.0000\n",
            "Epoch 145/250\n",
            "11/11 [==============================] - 0s 7ms/step - loss: 0.1201 - accuracy: 0.9623 - val_loss: 3.0919e-04 - val_accuracy: 1.0000\n",
            "Epoch 146/250\n",
            "11/11 [==============================] - 0s 11ms/step - loss: 0.0319 - accuracy: 1.0000 - val_loss: 3.4283e-04 - val_accuracy: 1.0000\n",
            "Epoch 147/250\n",
            "11/11 [==============================] - 0s 8ms/step - loss: 0.0085 - accuracy: 1.0000 - val_loss: 3.4494e-04 - val_accuracy: 1.0000\n",
            "Epoch 148/250\n",
            "11/11 [==============================] - 0s 7ms/step - loss: 0.0110 - accuracy: 1.0000 - val_loss: 3.2755e-04 - val_accuracy: 1.0000\n",
            "Epoch 149/250\n",
            "11/11 [==============================] - 0s 7ms/step - loss: 0.0138 - accuracy: 1.0000 - val_loss: 3.0862e-04 - val_accuracy: 1.0000\n",
            "Epoch 150/250\n",
            "11/11 [==============================] - 0s 7ms/step - loss: 0.0083 - accuracy: 1.0000 - val_loss: 2.8079e-04 - val_accuracy: 1.0000\n",
            "Epoch 151/250\n",
            "11/11 [==============================] - 0s 8ms/step - loss: 0.0179 - accuracy: 1.0000 - val_loss: 2.5674e-04 - val_accuracy: 1.0000\n",
            "Epoch 152/250\n",
            "11/11 [==============================] - 0s 8ms/step - loss: 0.0234 - accuracy: 1.0000 - val_loss: 2.3619e-04 - val_accuracy: 1.0000\n",
            "Epoch 153/250\n",
            "11/11 [==============================] - 0s 7ms/step - loss: 0.0125 - accuracy: 1.0000 - val_loss: 2.2853e-04 - val_accuracy: 1.0000\n",
            "Epoch 154/250\n",
            "11/11 [==============================] - 0s 8ms/step - loss: 0.0345 - accuracy: 1.0000 - val_loss: 2.2978e-04 - val_accuracy: 1.0000\n",
            "Epoch 155/250\n",
            "11/11 [==============================] - 0s 7ms/step - loss: 0.0065 - accuracy: 1.0000 - val_loss: 2.3337e-04 - val_accuracy: 1.0000\n",
            "Epoch 156/250\n",
            "11/11 [==============================] - 0s 8ms/step - loss: 0.0090 - accuracy: 1.0000 - val_loss: 2.2062e-04 - val_accuracy: 1.0000\n",
            "Epoch 157/250\n",
            "11/11 [==============================] - 0s 7ms/step - loss: 0.0107 - accuracy: 1.0000 - val_loss: 2.0588e-04 - val_accuracy: 1.0000\n",
            "Epoch 158/250\n",
            "11/11 [==============================] - 0s 7ms/step - loss: 0.0118 - accuracy: 1.0000 - val_loss: 1.9420e-04 - val_accuracy: 1.0000\n",
            "Epoch 159/250\n",
            "11/11 [==============================] - 0s 7ms/step - loss: 0.0081 - accuracy: 1.0000 - val_loss: 1.8439e-04 - val_accuracy: 1.0000\n",
            "Epoch 160/250\n",
            "11/11 [==============================] - 0s 7ms/step - loss: 0.0061 - accuracy: 1.0000 - val_loss: 1.7642e-04 - val_accuracy: 1.0000\n",
            "Epoch 161/250\n",
            "11/11 [==============================] - 0s 8ms/step - loss: 0.0133 - accuracy: 1.0000 - val_loss: 1.6943e-04 - val_accuracy: 1.0000\n",
            "Epoch 162/250\n",
            "11/11 [==============================] - 0s 7ms/step - loss: 0.0258 - accuracy: 1.0000 - val_loss: 1.6196e-04 - val_accuracy: 1.0000\n",
            "Epoch 163/250\n",
            "11/11 [==============================] - 0s 9ms/step - loss: 0.0236 - accuracy: 1.0000 - val_loss: 1.5507e-04 - val_accuracy: 1.0000\n",
            "Epoch 164/250\n",
            "11/11 [==============================] - 0s 7ms/step - loss: 0.0071 - accuracy: 1.0000 - val_loss: 1.4551e-04 - val_accuracy: 1.0000\n",
            "Epoch 165/250\n",
            "11/11 [==============================] - 0s 7ms/step - loss: 0.0741 - accuracy: 0.9811 - val_loss: 1.4018e-04 - val_accuracy: 1.0000\n",
            "Epoch 166/250\n",
            "11/11 [==============================] - 0s 7ms/step - loss: 0.0296 - accuracy: 1.0000 - val_loss: 1.3881e-04 - val_accuracy: 1.0000\n",
            "Epoch 167/250\n",
            "11/11 [==============================] - 0s 7ms/step - loss: 0.0125 - accuracy: 1.0000 - val_loss: 1.3528e-04 - val_accuracy: 1.0000\n",
            "Epoch 168/250\n",
            "11/11 [==============================] - 0s 7ms/step - loss: 0.0107 - accuracy: 1.0000 - val_loss: 1.2472e-04 - val_accuracy: 1.0000\n",
            "Epoch 169/250\n",
            "11/11 [==============================] - 0s 7ms/step - loss: 0.0077 - accuracy: 1.0000 - val_loss: 1.2033e-04 - val_accuracy: 1.0000\n",
            "Epoch 170/250\n",
            "11/11 [==============================] - 0s 11ms/step - loss: 0.0086 - accuracy: 1.0000 - val_loss: 1.1406e-04 - val_accuracy: 1.0000\n",
            "Epoch 171/250\n",
            "11/11 [==============================] - 0s 8ms/step - loss: 0.0121 - accuracy: 1.0000 - val_loss: 1.0919e-04 - val_accuracy: 1.0000\n",
            "Epoch 172/250\n",
            "11/11 [==============================] - 0s 7ms/step - loss: 0.0097 - accuracy: 1.0000 - val_loss: 1.0914e-04 - val_accuracy: 1.0000\n",
            "Epoch 173/250\n",
            "11/11 [==============================] - 0s 8ms/step - loss: 0.0576 - accuracy: 0.9811 - val_loss: 1.1166e-04 - val_accuracy: 1.0000\n",
            "Epoch 174/250\n",
            "11/11 [==============================] - 0s 7ms/step - loss: 0.0143 - accuracy: 1.0000 - val_loss: 1.1042e-04 - val_accuracy: 1.0000\n",
            "Epoch 175/250\n",
            "11/11 [==============================] - 0s 7ms/step - loss: 0.0134 - accuracy: 1.0000 - val_loss: 1.0361e-04 - val_accuracy: 1.0000\n",
            "Epoch 176/250\n",
            "11/11 [==============================] - 0s 8ms/step - loss: 0.0057 - accuracy: 1.0000 - val_loss: 9.9087e-05 - val_accuracy: 1.0000\n",
            "Epoch 177/250\n",
            "11/11 [==============================] - 0s 7ms/step - loss: 0.0038 - accuracy: 1.0000 - val_loss: 9.5565e-05 - val_accuracy: 1.0000\n",
            "Epoch 178/250\n",
            "11/11 [==============================] - 0s 7ms/step - loss: 0.0152 - accuracy: 1.0000 - val_loss: 9.2624e-05 - val_accuracy: 1.0000\n",
            "Epoch 179/250\n",
            "11/11 [==============================] - 0s 8ms/step - loss: 0.0089 - accuracy: 1.0000 - val_loss: 8.9832e-05 - val_accuracy: 1.0000\n",
            "Epoch 180/250\n",
            "11/11 [==============================] - 0s 8ms/step - loss: 0.0323 - accuracy: 1.0000 - val_loss: 8.6821e-05 - val_accuracy: 1.0000\n",
            "Epoch 181/250\n",
            "11/11 [==============================] - 0s 12ms/step - loss: 0.0250 - accuracy: 0.9811 - val_loss: 8.5746e-05 - val_accuracy: 1.0000\n",
            "Epoch 182/250\n",
            "11/11 [==============================] - 0s 8ms/step - loss: 0.0303 - accuracy: 0.9811 - val_loss: 8.3370e-05 - val_accuracy: 1.0000\n",
            "Epoch 183/250\n",
            "11/11 [==============================] - 0s 8ms/step - loss: 0.0114 - accuracy: 1.0000 - val_loss: 8.4789e-05 - val_accuracy: 1.0000\n",
            "Epoch 184/250\n",
            "11/11 [==============================] - 0s 8ms/step - loss: 0.0053 - accuracy: 1.0000 - val_loss: 8.4132e-05 - val_accuracy: 1.0000\n",
            "Epoch 185/250\n",
            "11/11 [==============================] - 0s 7ms/step - loss: 0.0636 - accuracy: 0.9623 - val_loss: 8.4443e-05 - val_accuracy: 1.0000\n",
            "Epoch 186/250\n",
            "11/11 [==============================] - 0s 7ms/step - loss: 0.0194 - accuracy: 1.0000 - val_loss: 8.3283e-05 - val_accuracy: 1.0000\n",
            "Epoch 187/250\n",
            "11/11 [==============================] - 0s 8ms/step - loss: 0.0094 - accuracy: 1.0000 - val_loss: 7.7852e-05 - val_accuracy: 1.0000\n",
            "Epoch 188/250\n",
            "11/11 [==============================] - 0s 7ms/step - loss: 0.0029 - accuracy: 1.0000 - val_loss: 7.4821e-05 - val_accuracy: 1.0000\n",
            "Epoch 189/250\n",
            "11/11 [==============================] - 0s 7ms/step - loss: 0.0086 - accuracy: 1.0000 - val_loss: 7.1974e-05 - val_accuracy: 1.0000\n",
            "Epoch 190/250\n",
            "11/11 [==============================] - 0s 7ms/step - loss: 0.0223 - accuracy: 1.0000 - val_loss: 7.2589e-05 - val_accuracy: 1.0000\n",
            "Epoch 191/250\n",
            "11/11 [==============================] - 0s 9ms/step - loss: 0.0068 - accuracy: 1.0000 - val_loss: 7.9129e-05 - val_accuracy: 1.0000\n",
            "Epoch 192/250\n",
            "11/11 [==============================] - 0s 8ms/step - loss: 0.0324 - accuracy: 0.9811 - val_loss: 7.8690e-05 - val_accuracy: 1.0000\n",
            "Epoch 193/250\n",
            "11/11 [==============================] - 0s 7ms/step - loss: 0.0028 - accuracy: 1.0000 - val_loss: 7.8142e-05 - val_accuracy: 1.0000\n",
            "Epoch 194/250\n",
            "11/11 [==============================] - 0s 8ms/step - loss: 0.0049 - accuracy: 1.0000 - val_loss: 7.6465e-05 - val_accuracy: 1.0000\n",
            "Epoch 195/250\n",
            "11/11 [==============================] - 0s 7ms/step - loss: 0.0116 - accuracy: 1.0000 - val_loss: 7.3073e-05 - val_accuracy: 1.0000\n",
            "Epoch 196/250\n",
            "11/11 [==============================] - 0s 8ms/step - loss: 0.0055 - accuracy: 1.0000 - val_loss: 7.1686e-05 - val_accuracy: 1.0000\n",
            "Epoch 197/250\n",
            "11/11 [==============================] - 0s 7ms/step - loss: 0.0049 - accuracy: 1.0000 - val_loss: 6.9815e-05 - val_accuracy: 1.0000\n",
            "Epoch 198/250\n",
            "11/11 [==============================] - 0s 8ms/step - loss: 0.0156 - accuracy: 1.0000 - val_loss: 6.7155e-05 - val_accuracy: 1.0000\n",
            "Epoch 199/250\n",
            "11/11 [==============================] - 0s 7ms/step - loss: 0.0177 - accuracy: 1.0000 - val_loss: 6.4825e-05 - val_accuracy: 1.0000\n",
            "Epoch 200/250\n",
            "11/11 [==============================] - 0s 7ms/step - loss: 0.0025 - accuracy: 1.0000 - val_loss: 6.3191e-05 - val_accuracy: 1.0000\n",
            "Epoch 201/250\n",
            "11/11 [==============================] - 0s 7ms/step - loss: 0.0181 - accuracy: 1.0000 - val_loss: 6.2615e-05 - val_accuracy: 1.0000\n",
            "Epoch 202/250\n",
            "11/11 [==============================] - 0s 8ms/step - loss: 0.0062 - accuracy: 1.0000 - val_loss: 6.1636e-05 - val_accuracy: 1.0000\n",
            "Epoch 203/250\n",
            "11/11 [==============================] - 0s 8ms/step - loss: 0.0048 - accuracy: 1.0000 - val_loss: 6.0341e-05 - val_accuracy: 1.0000\n",
            "Epoch 204/250\n",
            "11/11 [==============================] - 0s 7ms/step - loss: 0.0571 - accuracy: 0.9623 - val_loss: 6.4636e-05 - val_accuracy: 1.0000\n",
            "Epoch 205/250\n",
            "11/11 [==============================] - 0s 7ms/step - loss: 0.0036 - accuracy: 1.0000 - val_loss: 6.8230e-05 - val_accuracy: 1.0000\n",
            "Epoch 206/250\n",
            "11/11 [==============================] - 0s 8ms/step - loss: 0.0266 - accuracy: 0.9811 - val_loss: 6.4155e-05 - val_accuracy: 1.0000\n",
            "Epoch 207/250\n",
            "11/11 [==============================] - 0s 8ms/step - loss: 0.0213 - accuracy: 1.0000 - val_loss: 6.4555e-05 - val_accuracy: 1.0000\n",
            "Epoch 208/250\n",
            "11/11 [==============================] - 0s 9ms/step - loss: 0.0054 - accuracy: 1.0000 - val_loss: 6.7865e-05 - val_accuracy: 1.0000\n",
            "Epoch 209/250\n",
            "11/11 [==============================] - 0s 8ms/step - loss: 0.0059 - accuracy: 1.0000 - val_loss: 6.7504e-05 - val_accuracy: 1.0000\n",
            "Epoch 210/250\n",
            "11/11 [==============================] - 0s 8ms/step - loss: 0.0088 - accuracy: 1.0000 - val_loss: 6.5294e-05 - val_accuracy: 1.0000\n",
            "Epoch 211/250\n",
            "11/11 [==============================] - 0s 8ms/step - loss: 0.0066 - accuracy: 1.0000 - val_loss: 6.3594e-05 - val_accuracy: 1.0000\n",
            "Epoch 212/250\n",
            "11/11 [==============================] - 0s 7ms/step - loss: 0.0573 - accuracy: 0.9811 - val_loss: 6.5799e-05 - val_accuracy: 1.0000\n",
            "Epoch 213/250\n",
            "11/11 [==============================] - 0s 7ms/step - loss: 0.0176 - accuracy: 1.0000 - val_loss: 6.7481e-05 - val_accuracy: 1.0000\n",
            "Epoch 214/250\n",
            "11/11 [==============================] - 0s 12ms/step - loss: 0.0062 - accuracy: 1.0000 - val_loss: 6.6255e-05 - val_accuracy: 1.0000\n",
            "Epoch 215/250\n",
            "11/11 [==============================] - 0s 12ms/step - loss: 0.0078 - accuracy: 1.0000 - val_loss: 6.5056e-05 - val_accuracy: 1.0000\n",
            "Epoch 216/250\n",
            "11/11 [==============================] - 0s 7ms/step - loss: 0.0126 - accuracy: 1.0000 - val_loss: 6.4919e-05 - val_accuracy: 1.0000\n",
            "Epoch 217/250\n",
            "11/11 [==============================] - 0s 7ms/step - loss: 0.0662 - accuracy: 0.9811 - val_loss: 6.7588e-05 - val_accuracy: 1.0000\n",
            "Epoch 218/250\n",
            "11/11 [==============================] - 0s 7ms/step - loss: 0.0023 - accuracy: 1.0000 - val_loss: 7.2012e-05 - val_accuracy: 1.0000\n",
            "Epoch 219/250\n",
            "11/11 [==============================] - 0s 7ms/step - loss: 0.0824 - accuracy: 0.9811 - val_loss: 8.6151e-05 - val_accuracy: 1.0000\n",
            "Epoch 220/250\n",
            "11/11 [==============================] - 0s 8ms/step - loss: 0.0213 - accuracy: 1.0000 - val_loss: 1.0933e-04 - val_accuracy: 1.0000\n",
            "Epoch 221/250\n",
            "11/11 [==============================] - 0s 7ms/step - loss: 0.0052 - accuracy: 1.0000 - val_loss: 1.1350e-04 - val_accuracy: 1.0000\n",
            "Epoch 222/250\n",
            "11/11 [==============================] - 0s 7ms/step - loss: 0.0244 - accuracy: 1.0000 - val_loss: 1.0844e-04 - val_accuracy: 1.0000\n",
            "Epoch 223/250\n",
            "11/11 [==============================] - 0s 7ms/step - loss: 0.0377 - accuracy: 0.9811 - val_loss: 1.0586e-04 - val_accuracy: 1.0000\n",
            "Epoch 224/250\n",
            "11/11 [==============================] - 0s 8ms/step - loss: 0.0076 - accuracy: 1.0000 - val_loss: 1.0196e-04 - val_accuracy: 1.0000\n",
            "Epoch 225/250\n",
            "11/11 [==============================] - 0s 9ms/step - loss: 0.0198 - accuracy: 1.0000 - val_loss: 9.1462e-05 - val_accuracy: 1.0000\n",
            "Epoch 226/250\n",
            "11/11 [==============================] - 0s 7ms/step - loss: 0.0136 - accuracy: 1.0000 - val_loss: 8.3498e-05 - val_accuracy: 1.0000\n",
            "Epoch 227/250\n",
            "11/11 [==============================] - 0s 7ms/step - loss: 0.0091 - accuracy: 1.0000 - val_loss: 7.7049e-05 - val_accuracy: 1.0000\n",
            "Epoch 228/250\n",
            "11/11 [==============================] - 0s 7ms/step - loss: 0.0038 - accuracy: 1.0000 - val_loss: 7.4043e-05 - val_accuracy: 1.0000\n",
            "Epoch 229/250\n",
            "11/11 [==============================] - 0s 8ms/step - loss: 0.0047 - accuracy: 1.0000 - val_loss: 7.1367e-05 - val_accuracy: 1.0000\n",
            "Epoch 230/250\n",
            "11/11 [==============================] - 0s 12ms/step - loss: 0.0136 - accuracy: 1.0000 - val_loss: 6.8945e-05 - val_accuracy: 1.0000\n",
            "Epoch 231/250\n",
            "11/11 [==============================] - 0s 8ms/step - loss: 0.0018 - accuracy: 1.0000 - val_loss: 6.7614e-05 - val_accuracy: 1.0000\n",
            "Epoch 232/250\n",
            "11/11 [==============================] - 0s 8ms/step - loss: 0.0113 - accuracy: 1.0000 - val_loss: 6.5770e-05 - val_accuracy: 1.0000\n",
            "Epoch 233/250\n",
            "11/11 [==============================] - 0s 7ms/step - loss: 0.0450 - accuracy: 0.9623 - val_loss: 6.2933e-05 - val_accuracy: 1.0000\n",
            "Epoch 234/250\n",
            "11/11 [==============================] - 0s 7ms/step - loss: 0.0087 - accuracy: 1.0000 - val_loss: 6.5294e-05 - val_accuracy: 1.0000\n",
            "Epoch 235/250\n",
            "11/11 [==============================] - 0s 7ms/step - loss: 0.0189 - accuracy: 1.0000 - val_loss: 6.4687e-05 - val_accuracy: 1.0000\n",
            "Epoch 236/250\n",
            "11/11 [==============================] - 0s 9ms/step - loss: 0.0308 - accuracy: 1.0000 - val_loss: 6.2992e-05 - val_accuracy: 1.0000\n",
            "Epoch 237/250\n",
            "11/11 [==============================] - 0s 7ms/step - loss: 0.0144 - accuracy: 1.0000 - val_loss: 6.1375e-05 - val_accuracy: 1.0000\n",
            "Epoch 238/250\n",
            "11/11 [==============================] - 0s 8ms/step - loss: 0.0211 - accuracy: 1.0000 - val_loss: 5.9639e-05 - val_accuracy: 1.0000\n",
            "Epoch 239/250\n",
            "11/11 [==============================] - 0s 7ms/step - loss: 0.0174 - accuracy: 1.0000 - val_loss: 5.7117e-05 - val_accuracy: 1.0000\n",
            "Epoch 240/250\n",
            "11/11 [==============================] - 0s 7ms/step - loss: 0.0047 - accuracy: 1.0000 - val_loss: 5.5325e-05 - val_accuracy: 1.0000\n",
            "Epoch 241/250\n",
            "11/11 [==============================] - 0s 8ms/step - loss: 0.0062 - accuracy: 1.0000 - val_loss: 5.3949e-05 - val_accuracy: 1.0000\n",
            "Epoch 242/250\n",
            "11/11 [==============================] - 0s 7ms/step - loss: 0.0159 - accuracy: 0.9811 - val_loss: 6.1740e-05 - val_accuracy: 1.0000\n",
            "Epoch 243/250\n",
            "11/11 [==============================] - 0s 7ms/step - loss: 0.0184 - accuracy: 1.0000 - val_loss: 6.2606e-05 - val_accuracy: 1.0000\n",
            "Epoch 244/250\n",
            "11/11 [==============================] - 0s 7ms/step - loss: 0.0240 - accuracy: 1.0000 - val_loss: 5.8770e-05 - val_accuracy: 1.0000\n",
            "Epoch 245/250\n",
            "11/11 [==============================] - 0s 7ms/step - loss: 0.0143 - accuracy: 1.0000 - val_loss: 5.3302e-05 - val_accuracy: 1.0000\n",
            "Epoch 246/250\n",
            "11/11 [==============================] - 0s 11ms/step - loss: 0.0143 - accuracy: 1.0000 - val_loss: 4.9066e-05 - val_accuracy: 1.0000\n",
            "Epoch 247/250\n",
            "11/11 [==============================] - 0s 13ms/step - loss: 0.0062 - accuracy: 1.0000 - val_loss: 4.6795e-05 - val_accuracy: 1.0000\n",
            "Epoch 248/250\n",
            "11/11 [==============================] - 0s 7ms/step - loss: 0.0081 - accuracy: 1.0000 - val_loss: 4.4719e-05 - val_accuracy: 1.0000\n",
            "Epoch 249/250\n",
            "11/11 [==============================] - 0s 7ms/step - loss: 0.0252 - accuracy: 0.9811 - val_loss: 5.3029e-05 - val_accuracy: 1.0000\n",
            "Epoch 250/250\n",
            "11/11 [==============================] - 0s 8ms/step - loss: 0.0245 - accuracy: 0.9811 - val_loss: 5.9472e-05 - val_accuracy: 1.0000\n"
          ]
        }
      ]
    },
    {
      "cell_type": "code",
      "source": [
        "pd.DataFrame(history.history).plot()"
      ],
      "metadata": {
        "colab": {
          "base_uri": "https://localhost:8080/",
          "height": 282
        },
        "id": "Mq8YGwSS7KFk",
        "outputId": "66240039-98e5-4eda-a880-d9b658fecc7a"
      },
      "execution_count": 42,
      "outputs": [
        {
          "output_type": "execute_result",
          "data": {
            "text/plain": [
              "<matplotlib.axes._subplots.AxesSubplot at 0x7f0998b89610>"
            ]
          },
          "metadata": {},
          "execution_count": 42
        },
        {
          "output_type": "display_data",
          "data": {
            "text/plain": [
              "<Figure size 432x288 with 1 Axes>"
            ],
            "image/png": "[encoded data removed]"
          },
          "metadata": {
            "needs_background": "light"
          }
        }
      ]
    },
    {
      "cell_type": "code",
      "source": [
        "model.save('chatbot_model.h5', history)\n",
        "print(\"model Saved\")"
      ],
      "metadata": {
        "colab": {
          "base_uri": "https://localhost:8080/"
        },
        "id": "8dFkj00W7TLD",
        "outputId": "e8fcdd64-a6ee-4f6e-fe86-c2071610af3e"
      },
      "execution_count": 43,
      "outputs": [
        {
          "output_type": "stream",
          "name": "stdout",
          "text": [
            "model Saved\n"
          ]
        }
      ]
    },
    {
      "cell_type": "code",
      "source": [
        ""
      ],
      "metadata": {
        "id": "yiqcLJ6x7YWD"
      },
      "execution_count": null,
      "outputs": []
    }
  ]
}